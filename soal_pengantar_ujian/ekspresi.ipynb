{
 "cells": [
  {
   "cell_type": "code",
   "execution_count": 1,
   "metadata": {},
   "outputs": [
    {
     "name": "stdout",
     "output_type": "stream",
     "text": [
      "15 mod 5 : 0\n",
      "12 +3*5==75 : False\n",
      "\"PML\" + \"15523\": PML15523\n",
      "\"100\" + 234: can only concatenate str (not \"int\") to str\n",
      "((11 % 3) + 2) != 8 / 2 : False\n"
     ]
    }
   ],
   "source": [
    "#ekspresi\n",
    "hasil_1a = 15 % 5\n",
    "print(f\"15 mod 5 : {hasil_1a}\")\n",
    "\n",
    "hasil_1b = 12 +3*5==75\n",
    "print(f\"12 +3*5==75 : {hasil_1b}\")\n",
    "\n",
    "hasil_1c =  \"PML\" + \"15523\"\n",
    "print(f'\"PML\" + \"15523\": {hasil_1c}')\n",
    "\n",
    "try:\n",
    "    hasil_1d = \"100\" + 234\n",
    "except TypeError as e:\n",
    "    hasil_1d = str(e)\n",
    "hasil_1e = ((11 % 3) + 2) != 8 / 2\n",
    "\n",
    "print(f'\"100\" + 234: {hasil_1d}')\n",
    "print(f\"((11 % 3) + 2) != 8 / 2 : {hasil_1e}\")\n"
   ]
  },
  {
   "cell_type": "code",
   "execution_count": 2,
   "metadata": {},
   "outputs": [
    {
     "name": "stdout",
     "output_type": "stream",
     "text": [
      "((p - r) == (r + q)): False\n",
      "(((p % 3) + q) != (r % 2)): True\n",
      "((q - 3) == (p % 2 + q)): False\n",
      "((r + q) != ((p * 2) % 2)): True\n",
      "(((q % 3) + p) > (r % 2)): True\n",
      "((r + p) <= (q * 5)): True\n"
     ]
    }
   ],
   "source": [
    "#ekspresi boolean\n",
    "p = 11\n",
    "q = 5\n",
    "r = 4\n",
    "\n",
    "hasil_2a = (p - r) == (r + q)\n",
    "hasil_2b = ((p % 3) + q) != (r % 2)\n",
    "hasil_2c = (q - 3) == (p % 2 + q)\n",
    "hasil_2d = (r + q) != ((p * 2) % 2)\n",
    "hasil_2e = ((q % 3) + p) > (r % 2)\n",
    "hasil_2f = (r + p) <= (q * 5)\n",
    "\n",
    "print(f\"((p - r) == (r + q)): {hasil_2a}\")\n",
    "print(f\"(((p % 3) + q) != (r % 2)): {hasil_2b}\")\n",
    "print(f\"((q - 3) == (p % 2 + q)): {hasil_2c}\")\n",
    "print(f\"((r + q) != ((p * 2) % 2)): {hasil_2d}\")\n",
    "print(f\"(((q % 3) + p) > (r % 2)): {hasil_2e}\")\n",
    "print(f\"((r + p) <= (q * 5)): {hasil_2f}\")\n"
   ]
  }
 ],
 "metadata": {
  "kernelspec": {
   "display_name": "Python 3",
   "language": "python",
   "name": "python3"
  },
  "language_info": {
   "codemirror_mode": {
    "name": "ipython",
    "version": 3
   },
   "file_extension": ".py",
   "mimetype": "text/x-python",
   "name": "python",
   "nbconvert_exporter": "python",
   "pygments_lexer": "ipython3",
   "version": "3.12.0"
  }
 },
 "nbformat": 4,
 "nbformat_minor": 2
}
