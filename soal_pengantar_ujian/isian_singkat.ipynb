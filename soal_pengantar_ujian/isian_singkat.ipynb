{
 "cells": [
  {
   "cell_type": "code",
   "execution_count": 7,
   "metadata": {},
   "outputs": [
    {
     "name": "stdout",
     "output_type": "stream",
     "text": [
      "\"Honey\" + \"Boo\" * 3: HoneyBooBooBoo\n"
     ]
    }
   ],
   "source": [
    "#NO 1\n",
    "hasil_1 = \"Honey\" + \"Boo\" * 3\n",
    "print(f'\"Honey\" + \"Boo\" * 3: {hasil_1}')\n"
   ]
  },
  {
   "cell_type": "code",
   "execution_count": 16,
   "metadata": {},
   "outputs": [
    {
     "name": "stdout",
     "output_type": "stream",
     "text": [
      "capitals['Germany']: Berlin\n"
     ]
    }
   ],
   "source": [
    "#NO 2\n",
    "negara = {\n",
    "    'Murica': 'Warshington',\n",
    "    'Germany': 'Berlin',  \n",
    "    'France': 'Paris',\n",
    "    'Engalnd': 'London'\n",
    "}\n",
    "hasil3_2 = negara['Germany']\n",
    "print(f\"capitals['Germany']: {hasil3_2}\")\n"
   ]
  },
  {
   "cell_type": "code",
   "execution_count": 15,
   "metadata": {},
   "outputs": [
    {
     "name": "stdout",
     "output_type": "stream",
     "text": [
      "a + b: can only concatenate str (not \"int\") to str\n"
     ]
    }
   ],
   "source": [
    "#NO 3\n",
    "a = \"23\"\n",
    "b = 9\n",
    "try:\n",
    "    hasil3_3 = a + b\n",
    "except TypeError as e:\n",
    "    hasil3_3 = str(e)\n",
    "print(f\"a + b: {hasil3_3}\")\n"
   ]
  },
  {
   "cell_type": "code",
   "execution_count": 18,
   "metadata": {},
   "outputs": [
    {
     "name": "stdout",
     "output_type": "stream",
     "text": [
      "letters[1]: b\n",
      "letters[len(letters) - 2]: c\n",
      "letters + ['x']: ['a', 'b', 'o', 'c', 'p', 'x']\n",
      "letters: ['a', 'b', 'o', 'c', 'p']\n"
     ]
    }
   ],
   "source": [
    "#NO 4\n",
    "letters = [\"a\", \"b\", \"o\", \"c\", \"p\"]\n",
    "hasil3_4a = letters[1]\n",
    "hasil3_4b = letters[len(letters) - 2]\n",
    "hasil3_4c = letters + [\"x\"]\n",
    "hasil3_4d = letters\n",
    "\n",
    "print(f\"letters[1]: {hasil3_4a}\")\n",
    "print(f\"letters[len(letters) - 2]: {hasil3_4b}\")\n",
    "print(f\"letters + ['x']: {hasil3_4c}\")\n",
    "print(f\"letters: {hasil3_4d}\")\n"
   ]
  },
  {
   "cell_type": "code",
   "execution_count": 19,
   "metadata": {},
   "outputs": [
    {
     "name": "stdout",
     "output_type": "stream",
     "text": [
      "' '.join('h a n d s'.split()): h a n d s\n"
     ]
    }
   ],
   "source": [
    "#NO 5\n",
    "hasil3_5 = ' '.join('h a n d s'.split())\n",
    "print(f\"' '.join('h a n d s'.split()): {hasil3_5}\")\n"
   ]
  },
  {
   "cell_type": "code",
   "execution_count": 10,
   "metadata": {},
   "outputs": [
    {
     "name": "stdout",
     "output_type": "stream",
     "text": [
      "deux\n"
     ]
    }
   ],
   "source": [
    "#NO6\n",
    "import json\n",
    "\n",
    "json_string = \"\"\"\n",
    "[\n",
    "    {\"1\": \"one\", \"2\": \"two\", \"3\": \"three\"},\n",
    "    {\"1\": \"un\", \"2\": \"deux\", \"3\": \"trois\"},\n",
    "    {\"1\": \"eins\", \"2\": \"zwei\", \"3\": \"drei\"}\n",
    "]\n",
    "\"\"\"\n",
    "\n",
    "try:\n",
    "    data = json.loads(json_string)\n",
    "    result = data[1][\"2\"]  \n",
    "    print(result)\n",
    "except json.JSONDecodeError as e:\n",
    "    print(f\"JSON decoding error: {e}\")\n",
    "except KeyError as e:\n",
    "    print(f\"Key error: {e}\")\n",
    "except IndexError as e:\n",
    "    print(f\"Index error: {e}\")\n"
   ]
  },
  {
   "cell_type": "code",
   "execution_count": 20,
   "metadata": {},
   "outputs": [
    {
     "data": {
      "text/plain": [
       "0"
      ]
     },
     "execution_count": 20,
     "metadata": {},
     "output_type": "execute_result"
    }
   ],
   "source": [
    "#NO 7\n",
    "def pembagi_indeks(nums, divisor):\n",
    "    for i in range(len(nums)):\n",
    "        if nums[i] % divisor == 0:\n",
    "            return i\n",
    "    return -1\n",
    "\n",
    "vals = [100, 66, 55, 64, 41, 35, 18, 64]\n",
    "pembagi_indeks(vals, 5)"
   ]
  },
  {
   "cell_type": "code",
   "execution_count": 13,
   "metadata": {},
   "outputs": [
    {
     "name": "stdout",
     "output_type": "stream",
     "text": [
      "mystery(4, 3): 4\n"
     ]
    }
   ],
   "source": [
    "#NO 8\n",
    "def mystery(n, m):\n",
    "    p = 0\n",
    "    e = 0\n",
    "    while e < m:\n",
    "        p = n\n",
    "        e += 1\n",
    "    return p\n",
    "\n",
    "result_5 = mystery(4, 3)\n",
    "print(f\"mystery(4, 3): {result_5}\")\n"
   ]
  }
 ],
 "metadata": {
  "kernelspec": {
   "display_name": "Python 3",
   "language": "python",
   "name": "python3"
  },
  "language_info": {
   "codemirror_mode": {
    "name": "ipython",
    "version": 3
   },
   "file_extension": ".py",
   "mimetype": "text/x-python",
   "name": "python",
   "nbconvert_exporter": "python",
   "pygments_lexer": "ipython3",
   "version": "3.12.0"
  }
 },
 "nbformat": 4,
 "nbformat_minor": 2
}
